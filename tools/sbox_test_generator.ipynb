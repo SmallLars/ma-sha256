{
 "cells": [
  {
   "cell_type": "code",
   "execution_count": 44,
   "metadata": {
    "collapsed": false
   },
   "outputs": [
    {
     "data": {
      "text/plain": [
       "[[13, 2, 8, 4, 6, 15, 11, 1, 10, 9, 3, 14, 5, 0, 12, 7],\n",
       " [1, 15, 13, 8, 10, 3, 7, 4, 12, 5, 6, 11, 0, 14, 9, 2],\n",
       " [7, 11, 4, 1, 9, 12, 14, 2, 0, 6, 10, 13, 15, 3, 5, 8],\n",
       " [2, 1, 14, 7, 4, 10, 8, 13, 15, 12, 9, 0, 3, 5, 6, 11]]"
      ]
     },
     "execution_count": 44,
     "metadata": {},
     "output_type": "execute_result"
    }
   ],
   "source": [
    "input_table = [list() for i in range(4)]\n",
    "input_file = open(\"../../sbox8.txt\", \"r\")\n",
    "for i in range(4):\n",
    "    for line_index in range(16):\n",
    "        input_table[i].append(int(input_file.readline()))\n",
    "input_table"
   ]
  },
  {
   "cell_type": "code",
   "execution_count": 45,
   "metadata": {
    "collapsed": false
   },
   "outputs": [
    {
     "name": "stdout",
     "output_type": "stream",
     "text": [
      "unsigned in[]  = {0x00, 0x01, 0x02, 0x03, 0x04, 0x05, 0x06, 0x07, \n",
      "                  0x08, 0x09, 0x0a, 0x0b, 0x0c, 0x0d, 0x0e, 0x0f, \n",
      "                  0x10, 0x11, 0x12, 0x13, 0x14, 0x15, 0x16, 0x17, \n",
      "                  0x18, 0x19, 0x1a, 0x1b, 0x1c, 0x1d, 0x1e, 0x1f, \n",
      "                  0x20, 0x21, 0x22, 0x23, 0x24, 0x25, 0x26, 0x27, \n",
      "                  0x28, 0x29, 0x2a, 0x2b, 0x2c, 0x2d, 0x2e, 0x2f, \n",
      "                  0x30, 0x31, 0x32, 0x33, 0x34, 0x35, 0x36, 0x37, \n",
      "                  0x38, 0x39, 0x3a, 0x3b, 0x3c, 0x3d, 0x3e, 0x3f\n",
      "                  };\n",
      "unsigned out[]  = {0x0d, 0x01, 0x02, 0x0f, 0x08, 0x0d, 0x04, 0x08, \n",
      "                   0x06, 0x0a, 0x0f, 0x03, 0x0b, 0x07, 0x01, 0x04, \n",
      "                   0x0a, 0x0c, 0x09, 0x05, 0x03, 0x06, 0x0e, 0x0b, \n",
      "                   0x05, 0x00, 0x00, 0x0e, 0x0c, 0x09, 0x07, 0x02, \n",
      "                   0x07, 0x02, 0x0b, 0x01, 0x04, 0x0e, 0x01, 0x07, \n",
      "                   0x09, 0x04, 0x0c, 0x0a, 0x0e, 0x08, 0x02, 0x0d, \n",
      "                   0x00, 0x0f, 0x06, 0x0c, 0x0a, 0x09, 0x0d, 0x00, \n",
      "                   0x0f, 0x03, 0x03, 0x05, 0x05, 0x06, 0x08, 0x0b\n",
      "                   };\n"
     ]
    }
   ],
   "source": [
    "import sys\n",
    "ins = []\n",
    "outs = []\n",
    "for x in range(2**6):\n",
    "    middle = (x >> 1) & 15\n",
    "    ends = ((x >> 5) << 1) + (x & 1)\n",
    "    ins.append(x)\n",
    "    outs.append(input_table[ends][middle])\n",
    "\n",
    "sys.stdout.write(\"unsigned in[]  = {\")\n",
    "for i, x in enumerate(ins):\n",
    "    sys.stdout.write(\"0x\" + \"{0:x}\".format(x).zfill(2))\n",
    "    if i != len(ins)-1:\n",
    "        sys.stdout.write(\", \");\n",
    "    if i%8 == 7 and i != 0:\n",
    "        sys.stdout.write(\"\\n                  \")\n",
    "print(\"};\")\n",
    "\n",
    "sys.stdout.write(\"unsigned out[]  = {\")\n",
    "for i, x in enumerate(outs):\n",
    "    sys.stdout.write(\"0x\" + \"{0:x}\".format(x).zfill(2))\n",
    "    if i != len(ins)-1:\n",
    "        sys.stdout.write(\", \")\n",
    "    if i%8 == 7 and i != 0:\n",
    "        sys.stdout.write(\"\\n                   \")\n",
    "print(\"};\")"
   ]
  },
  {
   "cell_type": "code",
   "execution_count": null,
   "metadata": {
    "collapsed": true
   },
   "outputs": [],
   "source": []
  }
 ],
 "metadata": {
  "kernelspec": {
   "display_name": "Python 2",
   "language": "python",
   "name": "python2"
  },
  "language_info": {
   "codemirror_mode": {
    "name": "ipython",
    "version": 2
   },
   "file_extension": ".py",
   "mimetype": "text/x-python",
   "name": "python",
   "nbconvert_exporter": "python",
   "pygments_lexer": "ipython2",
   "version": "2.7.9"
  }
 },
 "nbformat": 4,
 "nbformat_minor": 0
}
