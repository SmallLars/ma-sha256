{
 "cells": [
  {
   "cell_type": "code",
   "execution_count": 56,
   "metadata": {
    "collapsed": false
   },
   "outputs": [
    {
     "data": {
      "text/plain": [
       "[[13, 2, 8, 4, 6, 15, 11, 1, 10, 9, 3, 14, 5, 0, 12, 7],\n",
       " [1, 15, 13, 8, 10, 3, 7, 4, 12, 5, 6, 11, 0, 14, 9, 2],\n",
       " [7, 11, 4, 1, 9, 12, 14, 2, 0, 6, 10, 13, 15, 3, 5, 8],\n",
       " [2, 1, 14, 7, 4, 10, 8, 13, 15, 12, 9, 0, 3, 5, 6, 11]]"
      ]
     },
     "execution_count": 56,
     "metadata": {},
     "output_type": "execute_result"
    }
   ],
   "source": [
    "input_table = [list() for i in range(4)]\n",
    "input_file = open(\"sbox8.txt\", \"r\")\n",
    "for i in range(4):\n",
    "    for line_index in range(16):\n",
    "        input_table[i].append(int(input_file.readline()))\n",
    "input_table"
   ]
  },
  {
   "cell_type": "code",
   "execution_count": 57,
   "metadata": {
    "collapsed": false
   },
   "outputs": [
    {
     "name": "stdout",
     "output_type": "stream",
     "text": [
      ".i 10\n",
      ".o 1\n",
      ".p 64\n",
      "0000001101 1\n",
      "0000010001 1\n",
      "0000100010 1\n",
      "0000111111 1\n",
      "0001001000 1\n",
      "0001011101 1\n",
      "0001100100 1\n",
      "0001111000 1\n",
      "0010000110 1\n",
      "0010011010 1\n",
      "0010101111 1\n",
      "0010110011 1\n",
      "0011001011 1\n",
      "0011010111 1\n",
      "0011100001 1\n",
      "0011110100 1\n",
      "0100001010 1\n",
      "0100011100 1\n",
      "0100101001 1\n",
      "0100110101 1\n",
      "0101000011 1\n",
      "0101010110 1\n",
      "0101101110 1\n",
      "0101111011 1\n",
      "0110000101 1\n",
      "0110010000 1\n",
      "0110100000 1\n",
      "0110111110 1\n",
      "0111001100 1\n",
      "0111011001 1\n",
      "0111100111 1\n",
      "0111110010 1\n",
      "1000000111 1\n",
      "1000010010 1\n",
      "1000101011 1\n",
      "1000110001 1\n",
      "1001000100 1\n",
      "1001011110 1\n",
      "1001100001 1\n",
      "1001110111 1\n",
      "1010001001 1\n",
      "1010010100 1\n",
      "1010101100 1\n",
      "1010111010 1\n",
      "1011001110 1\n",
      "1011011000 1\n",
      "1011100010 1\n",
      "1011111101 1\n",
      "1100000000 1\n",
      "1100011111 1\n",
      "1100100110 1\n",
      "1100111100 1\n",
      "1101001010 1\n",
      "1101011001 1\n",
      "1101101101 1\n",
      "1101110000 1\n",
      "1110001111 1\n",
      "1110010011 1\n",
      "1110100011 1\n",
      "1110110101 1\n",
      "1111000101 1\n",
      "1111010110 1\n",
      "1111101000 1\n",
      "1111111011 1\n",
      ".e\n"
     ]
    }
   ],
   "source": [
    "print \".i 10\"\n",
    "print \".o 1\"\n",
    "print \".p 64\"\n",
    "for x in range(2**6):\n",
    "    middle = (x >> 1) & 15\n",
    "    ends = ((x >> 5) << 1) + (x & 1)\n",
    "    input_string = \"{0:b}\".format(x).zfill(6)\n",
    "    output_string = \"{0:b}\".format(input_table[ends][middle]).zfill(4)\n",
    "    print \"%s%s 1\" % (input_string, output_string)\n",
    "    #print \"debug %i: %i %i: %i\" % (x, middle, ends, input_table[ends][middle])\n",
    "print \".e\""
   ]
  },
  {
   "cell_type": "code",
   "execution_count": null,
   "metadata": {
    "collapsed": true
   },
   "outputs": [],
   "source": []
  }
 ],
 "metadata": {
  "kernelspec": {
   "display_name": "Python 2",
   "language": "python",
   "name": "python2"
  },
  "language_info": {
   "codemirror_mode": {
    "name": "ipython",
    "version": 2
   },
   "file_extension": ".py",
   "mimetype": "text/x-python",
   "name": "python",
   "nbconvert_exporter": "python",
   "pygments_lexer": "ipython2",
   "version": "2.7.9"
  }
 },
 "nbformat": 4,
 "nbformat_minor": 0
}
