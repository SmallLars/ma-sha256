{
 "cells": [
  {
   "cell_type": "code",
   "execution_count": 153,
   "metadata": {
    "collapsed": false
   },
   "outputs": [
    {
     "data": {
      "text/plain": [
       "[0, 0, 0, 0, 0]"
      ]
     },
     "execution_count": 153,
     "metadata": {},
     "output_type": "execute_result"
    }
   ],
   "source": [
    "def bitlist_to_hexstring(bitlist):\n",
    "    return str(hex(int(\"\".join(map(lambda x: str(x), bitlist)), base=2))[2:]).zfill(len(bitlist)//4)\n",
    "\n",
    "def hexstring_to_bitlist(hexstring, resulting_length):\n",
    "    if hexstring[-1] == 'L': \n",
    "        hexstring = hexstring[:-1]\n",
    "    bits = bin(int(hexstring, base=16))\n",
    "    bitlist = map(lambda x: int(x), list(bits[2:]))\n",
    "    bitlist = [0] * (resulting_length-len(bitlist))+ bitlist\n",
    "    return bitlist\n",
    "\n",
    "hexstring_to_bitlist(\"00\", 5)\n"
   ]
  },
  {
   "cell_type": "code",
   "execution_count": 58,
   "metadata": {
    "collapsed": false
   },
   "outputs": [
    {
     "data": {
      "text/plain": [
       "[[[14, 4, 13, 1, 2, 15, 11, 8, 3, 10, 6, 12, 5, 9, 0, 7],\n",
       "  [0, 15, 7, 4, 14, 2, 13, 1, 10, 6, 12, 11, 9, 5, 3, 8],\n",
       "  [4, 1, 14, 8, 13, 6, 2, 11, 15, 12, 9, 7, 3, 10, 5, 0],\n",
       "  [15, 12, 8, 2, 4, 9, 1, 7, 5, 11, 3, 14, 10, 0, 6, 13]],\n",
       " [[15, 1, 8, 14, 6, 11, 3, 4, 9, 7, 2, 13, 12, 0, 5, 10],\n",
       "  [3, 13, 4, 7, 15, 2, 8, 14, 12, 0, 1, 10, 6, 9, 11, 5],\n",
       "  [0, 14, 7, 11, 10, 4, 13, 1, 5, 8, 12, 6, 9, 3, 2, 15],\n",
       "  [13, 8, 10, 1, 3, 15, 4, 2, 11, 6, 7, 12, 0, 5, 14, 9]],\n",
       " [[10, 0, 9, 14, 6, 3, 15, 5, 1, 13, 12, 7, 11, 4, 2, 8],\n",
       "  [13, 7, 0, 9, 3, 4, 6, 10, 2, 8, 5, 14, 12, 11, 15, 1],\n",
       "  [13, 6, 4, 9, 8, 15, 3, 0, 11, 1, 2, 12, 5, 10, 14, 7],\n",
       "  [1, 10, 13, 0, 6, 9, 8, 7, 4, 15, 14, 3, 11, 5, 2, 12]],\n",
       " [[7, 13, 14, 3, 0, 6, 9, 10, 1, 2, 8, 5, 11, 12, 4, 15],\n",
       "  [13, 8, 11, 5, 6, 15, 0, 3, 4, 7, 2, 12, 1, 10, 14, 9],\n",
       "  [10, 6, 9, 0, 12, 11, 7, 13, 15, 1, 3, 14, 5, 2, 8, 4],\n",
       "  [3, 15, 0, 6, 10, 1, 13, 8, 9, 4, 5, 11, 12, 7, 2, 14]],\n",
       " [[2, 12, 4, 1, 7, 10, 11, 6, 8, 5, 3, 15, 13, 0, 14, 9],\n",
       "  [14, 11, 2, 12, 4, 7, 13, 1, 5, 0, 15, 10, 3, 9, 8, 6],\n",
       "  [4, 2, 1, 11, 10, 13, 7, 8, 15, 9, 12, 5, 6, 3, 0, 14],\n",
       "  [11, 8, 12, 7, 1, 14, 2, 13, 6, 15, 0, 9, 10, 4, 5, 3]],\n",
       " [[12, 1, 10, 15, 9, 2, 6, 8, 0, 13, 3, 4, 14, 7, 5, 11],\n",
       "  [10, 15, 4, 2, 7, 12, 9, 5, 6, 1, 13, 14, 0, 11, 3, 8],\n",
       "  [9, 14, 15, 5, 2, 8, 12, 3, 7, 0, 4, 10, 1, 13, 11, 6],\n",
       "  [4, 3, 2, 12, 9, 5, 15, 10, 11, 14, 1, 7, 6, 0, 8, 13]],\n",
       " [[4, 11, 2, 14, 15, 0, 8, 13, 3, 12, 9, 7, 5, 10, 6, 1],\n",
       "  [13, 0, 11, 7, 4, 9, 1, 10, 14, 3, 5, 12, 2, 15, 8, 6],\n",
       "  [1, 4, 11, 13, 12, 3, 7, 14, 10, 15, 6, 8, 0, 5, 9, 2],\n",
       "  [6, 11, 13, 8, 1, 4, 10, 7, 9, 5, 0, 15, 14, 2, 3, 12]],\n",
       " [[13, 2, 8, 4, 6, 15, 11, 1, 10, 9, 3, 14, 5, 0, 12, 7],\n",
       "  [1, 15, 13, 8, 10, 3, 7, 4, 12, 5, 6, 11, 0, 14, 9, 2],\n",
       "  [7, 11, 4, 1, 9, 12, 14, 2, 0, 6, 10, 13, 15, 3, 5, 8],\n",
       "  [2, 1, 14, 7, 4, 10, 8, 13, 15, 12, 9, 0, 3, 5, 6, 11]]]"
      ]
     },
     "execution_count": 58,
     "metadata": {},
     "output_type": "execute_result"
    }
   ],
   "source": [
    "sbox = []\n",
    "for x in range(1, 9):\n",
    "    input_table = [list() for i in range(4)]\n",
    "    input_file = open(\"../../sbox%s.txt\" % x, \"r\")\n",
    "    for i in range(4):\n",
    "        for line_index in range(16):\n",
    "            input_table[i].append(int(input_file.readline()))\n",
    "    sbox.append(input_table)\n",
    "sbox"
   ]
  },
  {
   "cell_type": "code",
   "execution_count": 71,
   "metadata": {
    "collapsed": false
   },
   "outputs": [
    {
     "name": "stdout",
     "output_type": "stream",
     "text": [
      "48\n"
     ]
    }
   ],
   "source": [
    "expansion_table = [32,  1,  2,  3,  4,  5,\n",
    "                    4,  5,  6,  7,  8,  9,\n",
    "                    8,  9, 10, 11, 12, 13,\n",
    "                   12, 13, 14, 15, 16, 17,\n",
    "                   16, 17, 18, 19, 20, 21,\n",
    "                   20, 21, 22, 23, 24, 25,\n",
    "                   24, 25, 26, 27, 28, 29,\n",
    "                   28, 29, 30, 31, 32,  1]\n",
    "\n",
    "# input is a bit list\n",
    "def expansion(input):\n",
    "    result = []\n",
    "    for x in expansion_table:\n",
    "        result.append(input[x-1])\n",
    "    return result\n",
    "\n",
    "print len(expansion([0] * 32))"
   ]
  },
  {
   "cell_type": "code",
   "execution_count": 184,
   "metadata": {
    "collapsed": false
   },
   "outputs": [
    {
     "data": {
      "text/plain": [
       "[2, 3, 4, 1]"
      ]
     },
     "execution_count": 184,
     "metadata": {},
     "output_type": "execute_result"
    }
   ],
   "source": [
    "def rotate(l, factor):\n",
    "    return l[factor:] + l[:factor]\n",
    "\n",
    "rotate([1,2,3,4], 1)"
   ]
  },
  {
   "cell_type": "code",
   "execution_count": 143,
   "metadata": {
    "collapsed": true
   },
   "outputs": [],
   "source": [
    "pc1_table = [57, 49, 41, 33, 25, 17,  9,  1,\n",
    "             58, 50, 42, 34, 26, 18, 10,  2,\n",
    "             59, 51, 43, 35, 27, 19, 11,  3,\n",
    "             60, 52, 44, 36, 63, 55, 47, 39,\n",
    "             31, 23, 15,  7, 62, 54, 46, 38,\n",
    "             30, 22, 14,  6, 61, 53, 45, 37,\n",
    "             29, 21, 13,  5, 28, 20, 12,  4]\n",
    "\n",
    "def remove_parity_bits(raw_key):\n",
    "    resulting_key = []\n",
    "    for x in pc1_table:\n",
    "        resulting_key.append(raw_key[x-1])\n",
    "    return resulting_key"
   ]
  },
  {
   "cell_type": "code",
   "execution_count": 192,
   "metadata": {
    "collapsed": false
   },
   "outputs": [
    {
     "name": "stdout",
     "output_type": "stream",
     "text": [
      "[0, 0, 0, 0, 0, 0, 0, 0, 0, 0, 0, 0, 0, 0, 0, 0, 0, 0, 0, 0, 0, 0, 0, 0, 0, 0, 0, 0, 0, 0, 0, 0, 0, 0, 0, 0, 0, 0, 0, 0, 0, 0, 0, 0, 0, 0, 0, 0]\n"
     ]
    }
   ],
   "source": [
    "pc2_table = [14, 17, 11, 24,  1,  5,  3, 28,\n",
    "             15,  6, 21, 10, 23, 19, 12,  4,\n",
    "             26,  8, 16,  7, 27, 20, 13,  2,\n",
    "             41, 52, 31, 37, 47, 55, 30, 40,\n",
    "             51, 45, 33, 48, 44, 49, 39, 56,\n",
    "             34, 53, 46, 42, 50, 36, 29, 32]\n",
    "\n",
    "#input_key is a bit list\n",
    "def gen_key_for_round(input_key, round):\n",
    "    c_part = input_key[0:28]\n",
    "    d_part = input_key[28:56]\n",
    "    for i in range(round):\n",
    "        if i == 0 or i == 1 or i == 8 or i == 15:\n",
    "            c_part = rotate(c_part, 1)\n",
    "            d_part = rotate(d_part, 1)\n",
    "        else:\n",
    "            c_part = rotate(c_part, 2)\n",
    "            d_part = rotate(d_part, 2)\n",
    "    \n",
    "    rotated_key = c_part + d_part\n",
    "    resulting_key = []\n",
    "    for x in pc2_table:\n",
    "        resulting_key.append(rotated_key[x-1])\n",
    "    return resulting_key\n",
    "    \n",
    "print gen_key_for_round([0] * 56, 3)"
   ]
  },
  {
   "cell_type": "code",
   "execution_count": 62,
   "metadata": {
    "collapsed": true
   },
   "outputs": [],
   "source": [
    "def xor_two_bit_lists(bit_list_a, bit_list_b):\n",
    "    return map(lambda x: x[0] ^ x[1], zip(bit_list_a, bit_list_b))"
   ]
  },
  {
   "cell_type": "code",
   "execution_count": 63,
   "metadata": {
    "collapsed": false
   },
   "outputs": [
    {
     "data": {
      "text/plain": [
       "[0, 1, 1, 0]"
      ]
     },
     "execution_count": 63,
     "metadata": {},
     "output_type": "execute_result"
    }
   ],
   "source": [
    "xor_two_bit_lists([0,0,1,1], [0,1,0,1])"
   ]
  },
  {
   "cell_type": "code",
   "execution_count": 64,
   "metadata": {
    "collapsed": false
   },
   "outputs": [
    {
     "data": {
      "text/plain": [
       "[1, 1, 0, 1]"
      ]
     },
     "execution_count": 64,
     "metadata": {},
     "output_type": "execute_result"
    }
   ],
   "source": [
    "def bitlist_to_int(bit_list):\n",
    "    value = 0\n",
    "    for bit in bit_list:\n",
    "        value = (value << 1) | bit\n",
    "    return value\n",
    "\n",
    "def int_to_bitlist(integer):\n",
    "    bitlist = []\n",
    "    for x in range(4):\n",
    "        bitlist = [integer & 0x1] + bitlist\n",
    "        integer = integer >> 1\n",
    "    return bitlist\n",
    "\n",
    "int_to_bitlist(13)"
   ]
  },
  {
   "cell_type": "code",
   "execution_count": 65,
   "metadata": {
    "collapsed": false
   },
   "outputs": [
    {
     "data": {
      "text/plain": [
       "[1, 1, 1, 0]"
      ]
     },
     "execution_count": 65,
     "metadata": {},
     "output_type": "execute_result"
    }
   ],
   "source": [
    "int_to_bitlist(sbox[0][0][0])"
   ]
  },
  {
   "cell_type": "code",
   "execution_count": 73,
   "metadata": {
    "collapsed": false
   },
   "outputs": [
    {
     "name": "stdout",
     "output_type": "stream",
     "text": [
      "[1, 1, 0, 0, 0, 0, 0, 1, 0, 1, 0, 1, 0, 0, 1, 0, 1, 1, 1, 1, 1, 1, 0, 1, 0, 1, 0, 1, 0, 1, 1, 0]\n"
     ]
    }
   ],
   "source": [
    "def use_sboxes_on_bit_list(bit_list):\n",
    "    result = []\n",
    "    for x in range(8):\n",
    "        value = bitlist_to_int(bit_list[x*6:(x+1)*6])\n",
    "        middle = (value >> 1) & 15\n",
    "        ends = ((value >> 5) << 1) + (value & 1)\n",
    "        result = result + int_to_bitlist(sbox[x][ends][middle])\n",
    "    return result\n",
    "        \n",
    "print use_sboxes_on_bit_list([0, 1] * 24)"
   ]
  },
  {
   "cell_type": "code",
   "execution_count": 67,
   "metadata": {
    "collapsed": true
   },
   "outputs": [],
   "source": [
    "permute_table_p = [16,  7, 20, 21, 29, 12, 28, 17,\n",
    "                    1, 15, 23, 26,  5, 18, 31, 10,\n",
    "                    2,  8, 24, 14, 32, 27,  3,  9,\n",
    "                   19, 13, 30,  6, 22, 11,  4, 25]\n",
    "\n",
    "def permute_p(bitlist):\n",
    "    result_list = []\n",
    "    for x in permute_table_p:\n",
    "        result_list.append(bitlist[x-1])\n",
    "    return result_list"
   ]
  },
  {
   "cell_type": "code",
   "execution_count": 78,
   "metadata": {
    "collapsed": false
   },
   "outputs": [
    {
     "name": "stdout",
     "output_type": "stream",
     "text": [
      "d8d8dbbc\n",
      "e73aed4f\n"
     ]
    }
   ],
   "source": [
    "def des_f_function(k, e, round):\n",
    "    expanded_e = expansion(e)\n",
    "    generated_key = gen_key_for_round(k, round)\n",
    "    xored_list = xor_two_bit_lists(expanded_e, generated_key)\n",
    "    sboxed_list = use_sboxes_on_bit_list(xored_list)\n",
    "    permuted_list = permute_p(sboxed_list)\n",
    "    return permuted_list\n",
    "\n",
    "print bitlist_to_hexstring(des_f_function([1] * 56, [1] * 32, 0))\n",
    "print bitlist_to_hexstring(des_f_function([0] * 56, hexstring_to_bitlist(\"d8d8dbbc\"), 1))"
   ]
  },
  {
   "cell_type": "code",
   "execution_count": 156,
   "metadata": {
    "collapsed": true
   },
   "outputs": [],
   "source": [
    "initial_permutation_table = [58, 50, 42, 34, 26, 18, 10,  2,\n",
    "                             60, 52, 44, 36, 28, 20, 12,  4,\n",
    "                             62, 54, 46, 38, 30, 22, 14,  6,\n",
    "                             64, 56, 48, 40, 32, 24, 16,  8,\n",
    "                             57, 49, 41, 33, 25, 17,  9,  1,\n",
    "                             59, 51, 43, 35, 27, 19, 11,  3,\n",
    "                             61, 53, 45, 37, 29, 21, 13,  5,\n",
    "                             63, 55, 47, 39, 31, 23, 15,  7]\n",
    "\n",
    "def initial_permutation(bitlist):\n",
    "    result = []\n",
    "    for x in initial_permutation_table:\n",
    "        result.append(bitlist[x-1])\n",
    "    return result"
   ]
  },
  {
   "cell_type": "code",
   "execution_count": 69,
   "metadata": {
    "collapsed": true
   },
   "outputs": [],
   "source": [
    "final_permutation_table = [40, 8, 48, 16, 56, 24, 64, 32,\n",
    "                           39, 7, 47, 15, 55, 23, 63, 31,\n",
    "                           38, 6, 46, 14, 54, 22, 62, 30,\n",
    "                           37, 5, 45, 13, 53, 21, 61, 29,\n",
    "                           36, 4, 44, 12, 52, 20, 60, 28,\n",
    "                           35, 3, 43, 11, 51, 19, 59, 27,\n",
    "                           34, 2, 42, 10, 50, 18, 58, 26,\n",
    "                           33, 1, 41,  9, 49, 17, 57, 25]\n",
    "\n",
    "def final_permutation(bitlist):\n",
    "    result = []\n",
    "    for x in final_permutation_table:\n",
    "        result.append(bitlist[x-1])\n",
    "    return result"
   ]
  },
  {
   "cell_type": "code",
   "execution_count": 190,
   "metadata": {
    "collapsed": false
   },
   "outputs": [
    {
     "name": "stdout",
     "output_type": "stream",
     "text": [
      "d8d8dbbc\n",
      "e73aed4f\n",
      "8322b01a\n",
      "b97f0f18\n",
      "d0e31046\n",
      "a3ac6b1d\n",
      "92c670bc\n",
      "6d939aba\n",
      "91c6070c\n",
      "b5ab428c\n",
      "7bf69d2e\n",
      "b332c66e\n",
      "a9b23234\n",
      "936f3a18\n",
      "e1b7ae88\n",
      "19ac2af6\n",
      "8ca64de9c1b123a7L\n"
     ]
    }
   ],
   "source": [
    "# plaintext is 64 bit long\n",
    "def des_encrypt(k, plaintext):\n",
    "    #initial permutation\n",
    "    l = plaintext[0:32]\n",
    "    r = plaintext[32:64]\n",
    "    for x in range(16):\n",
    "        temp = r\n",
    "        print bitlist_to_hexstring(des_f_function(k, r, x+1))\n",
    "        r = xor_two_bit_lists(l, des_f_function(k, r, x+1))\n",
    "        l = temp\n",
    "    return final_permutation(r + l)\n",
    "\n",
    "print bitlist_to_hexstring(des_encrypt([0] * 56, [0] * 64))"
   ]
  },
  {
   "cell_type": "code",
   "execution_count": 204,
   "metadata": {
    "collapsed": false
   },
   "outputs": [
    {
     "name": "stdout",
     "output_type": "stream",
     "text": [
      "plaintext e         : 0xffef6432ec8804d2L\n",
      "key k               : 0xb6c31861602ac950L\n",
      "key k without parity: 0x43da3982301645\n",
      "round               : 3\n",
      "r                   : 0xb31f338b\n",
      "round_key           : 0xb84e540644e0\n",
      "f_function result   : 0x6223b2db\n"
     ]
    }
   ],
   "source": [
    "from random import randint\n",
    "input_value = hex(randint(0, 2**64))\n",
    "r = initial_permutation(hexstring_to_bitlist(input_value, 64))[32:64]\n",
    "input_key = hex(randint(0, 2**64))\n",
    "real_key = remove_parity_bits(hexstring_to_bitlist(input_key, 64))\n",
    "input_round = randint(1, 16)\n",
    "\n",
    "print \"plaintext e         : %s\" % input_value\n",
    "print \"key k               : %s\" % input_key\n",
    "print \"key k without parity: 0x%s\" % bitlist_to_hexstring(real_key)\n",
    "print \"round               : %d\" % input_round\n",
    "print \"r                   : 0x%s\" % bitlist_to_hexstring(r)\n",
    "print \"round_key           : 0x%s\" % bitlist_to_hexstring(gen_key_for_round(real_key, 1))\n",
    "print \"f_function result   : 0x%s\" % bitlist_to_hexstring(des_f_function(real_key, r, input_round))"
   ]
  },
  {
   "cell_type": "code",
   "execution_count": 195,
   "metadata": {
    "collapsed": false
   },
   "outputs": [
    {
     "name": "stdout",
     "output_type": "stream",
     "text": [
      "plaintext e         : 0xe336a9e70264e761L\n",
      "key k               : 0x230ab6d4eb05d23d\n",
      "key k without parity: 5c5895c57ac92c\n",
      "round               : 1\n",
      "r                   : 1849f49d\n",
      "round_key           : 3e2f20e928ce\n",
      "0cb33929\n",
      "097c3b82\n",
      "8024fe75\n",
      "39a7f650\n",
      "4a964d2b\n",
      "9883ca8f\n",
      "3aacb07e\n",
      "a08628b1\n",
      "283ffd1b\n",
      "dbe4f981\n",
      "12113666\n",
      "2caa6e25\n",
      "321a2784\n",
      "3d5d9988\n",
      "aa4bdde7\n",
      "01e2beb7\n",
      "des_encrypt result  : 0x8cc6c147a6893af6L\n"
     ]
    }
   ],
   "source": [
    "from random import randint\n",
    "input_value = hex(randint(0, 2**64))\n",
    "lr = initial_permutation(hexstring_to_bitlist(input_value, 64))\n",
    "input_key = hex(randint(0, 2**64))\n",
    "real_key = remove_parity_bits(hexstring_to_bitlist(input_key, 64))\n",
    "input_round = 1# randint(1, 16)\n",
    "\n",
    "print \"plaintext e         : %s\" % input_value\n",
    "print \"key k               : %s\" % input_key\n",
    "print \"key k without parity: %s\" % bitlist_to_hexstring(real_key)\n",
    "print \"round               : %d\" % input_round\n",
    "print \"r                   : %s\" % bitlist_to_hexstring(r)\n",
    "print \"round_key           : %s\" % bitlist_to_hexstring(gen_key_for_round(real_key, 1))\n",
    "print \"des_encrypt result  : 0x%s\" % bitlist_to_hexstring(des_encrypt(real_key, lr))"
   ]
  },
  {
   "cell_type": "code",
   "execution_count": null,
   "metadata": {
    "collapsed": true
   },
   "outputs": [],
   "source": []
  }
 ],
 "metadata": {
  "kernelspec": {
   "display_name": "Python 2",
   "language": "python",
   "name": "python2"
  },
  "language_info": {
   "codemirror_mode": {
    "name": "ipython",
    "version": 2
   },
   "file_extension": ".py",
   "mimetype": "text/x-python",
   "name": "python",
   "nbconvert_exporter": "python",
   "pygments_lexer": "ipython2",
   "version": "2.7.9"
  }
 },
 "nbformat": 4,
 "nbformat_minor": 0
}
