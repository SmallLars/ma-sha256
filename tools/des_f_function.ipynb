{
 "cells": [
  {
   "cell_type": "code",
   "execution_count": 4,
   "metadata": {
    "collapsed": false
   },
   "outputs": [
    {
     "data": {
      "text/plain": [
       "[[[14, 4, 13, 1, 2, 15, 11, 8, 3, 10, 6, 12, 5, 9, 0, 7],\n",
       "  [0, 15, 7, 4, 14, 2, 13, 1, 10, 6, 12, 11, 9, 5, 3, 8],\n",
       "  [4, 1, 14, 8, 13, 6, 2, 11, 15, 12, 9, 7, 3, 10, 5, 0],\n",
       "  [15, 12, 8, 2, 4, 9, 1, 7, 5, 11, 3, 14, 10, 0, 6, 13]],\n",
       " [[15, 1, 8, 14, 6, 11, 3, 4, 9, 7, 2, 13, 12, 0, 5, 10],\n",
       "  [3, 13, 4, 7, 15, 2, 8, 14, 12, 0, 1, 10, 6, 9, 11, 5],\n",
       "  [0, 14, 7, 11, 10, 4, 13, 1, 5, 8, 12, 6, 9, 3, 2, 15],\n",
       "  [13, 8, 10, 1, 3, 15, 4, 2, 11, 6, 7, 12, 0, 5, 14, 9]],\n",
       " [[10, 0, 9, 14, 6, 3, 15, 5, 1, 13, 12, 7, 11, 4, 2, 8],\n",
       "  [13, 7, 0, 9, 3, 4, 6, 10, 2, 8, 5, 14, 12, 11, 15, 1],\n",
       "  [13, 6, 4, 9, 8, 15, 3, 0, 11, 1, 2, 12, 5, 10, 14, 7],\n",
       "  [1, 10, 13, 0, 6, 9, 8, 7, 4, 15, 14, 3, 11, 5, 2, 12]],\n",
       " [[7, 13, 14, 3, 0, 6, 9, 10, 1, 2, 8, 5, 11, 12, 4, 15],\n",
       "  [13, 8, 11, 5, 6, 15, 0, 3, 4, 7, 2, 12, 1, 10, 14, 9],\n",
       "  [10, 6, 9, 0, 12, 11, 7, 13, 15, 1, 3, 14, 5, 2, 8, 4],\n",
       "  [3, 15, 0, 6, 10, 1, 13, 8, 9, 4, 5, 11, 12, 7, 2, 14]],\n",
       " [[2, 12, 4, 1, 7, 10, 11, 6, 8, 5, 3, 15, 13, 0, 14, 9],\n",
       "  [14, 11, 2, 12, 4, 7, 13, 1, 5, 0, 15, 10, 3, 9, 8, 6],\n",
       "  [4, 2, 1, 11, 10, 13, 7, 8, 15, 9, 12, 5, 6, 3, 0, 14],\n",
       "  [11, 8, 12, 7, 1, 14, 2, 13, 6, 15, 0, 9, 10, 4, 5, 3]],\n",
       " [[12, 1, 10, 15, 9, 2, 6, 8, 0, 13, 3, 4, 14, 7, 5, 11],\n",
       "  [10, 15, 4, 2, 7, 12, 9, 5, 6, 1, 13, 14, 0, 11, 3, 8],\n",
       "  [9, 14, 15, 5, 2, 8, 12, 3, 7, 0, 4, 10, 1, 13, 11, 6],\n",
       "  [4, 3, 2, 12, 9, 5, 15, 10, 11, 14, 1, 7, 6, 0, 8, 13]],\n",
       " [[4, 11, 2, 14, 15, 0, 8, 13, 3, 12, 9, 7, 5, 10, 6, 1],\n",
       "  [13, 0, 11, 7, 4, 9, 1, 10, 14, 3, 5, 12, 2, 15, 8, 6],\n",
       "  [1, 4, 11, 13, 12, 3, 7, 14, 10, 15, 6, 8, 0, 5, 9, 2],\n",
       "  [6, 11, 13, 8, 1, 4, 10, 7, 9, 5, 0, 15, 14, 2, 3, 12]],\n",
       " [[13, 2, 8, 4, 6, 15, 11, 1, 10, 9, 3, 14, 5, 0, 12, 7],\n",
       "  [1, 15, 13, 8, 10, 3, 7, 4, 12, 5, 6, 11, 0, 14, 9, 2],\n",
       "  [7, 11, 4, 1, 9, 12, 14, 2, 0, 6, 10, 13, 15, 3, 5, 8],\n",
       "  [2, 1, 14, 7, 4, 10, 8, 13, 15, 12, 9, 0, 3, 5, 6, 11]]]"
      ]
     },
     "execution_count": 4,
     "metadata": {},
     "output_type": "execute_result"
    }
   ],
   "source": [
    "sbox = []\n",
    "for x in range(1, 9):\n",
    "    input_table = [list() for i in range(4)]\n",
    "    input_file = open(\"../../sbox%s.txt\" % x, \"r\")\n",
    "    for i in range(4):\n",
    "        for line_index in range(16):\n",
    "            input_table[i].append(int(input_file.readline()))\n",
    "    sbox.append(input_table)\n",
    "sbox"
   ]
  },
  {
   "cell_type": "code",
   "execution_count": 83,
   "metadata": {
    "collapsed": true
   },
   "outputs": [],
   "source": [
    "expansion_table = [32,  1,  2,  3,  4,  5,\n",
    "                    4,  5,  6,  7,  8,  9,\n",
    "                    8,  9, 10, 11, 12, 13,\n",
    "                   12, 13, 14, 15, 16, 17,\n",
    "                   16, 17, 18, 19, 20, 21,\n",
    "                   22, 23, 24, 25, 26, 27,\n",
    "                   26, 27, 28, 29, 30, 31]\n",
    "\n",
    "# input is a bit list\n",
    "def expansion(input):\n",
    "    result = []\n",
    "    for x in expansion_table:\n",
    "        result.append(input[x-1])\n",
    "    return result"
   ]
  },
  {
   "cell_type": "code",
   "execution_count": 37,
   "metadata": {
    "collapsed": true
   },
   "outputs": [],
   "source": [
    "def rotate(l, factor):\n",
    "    return l[factor:] + l[:factor]"
   ]
  },
  {
   "cell_type": "code",
   "execution_count": 89,
   "metadata": {
    "collapsed": false
   },
   "outputs": [
    {
     "data": {
      "text/plain": [
       "[0,\n",
       " 0,\n",
       " 0,\n",
       " 0,\n",
       " 0,\n",
       " 0,\n",
       " 0,\n",
       " 0,\n",
       " 0,\n",
       " 0,\n",
       " 0,\n",
       " 0,\n",
       " 0,\n",
       " 0,\n",
       " 0,\n",
       " 0,\n",
       " 0,\n",
       " 0,\n",
       " 0,\n",
       " 0,\n",
       " 0,\n",
       " 0,\n",
       " 0,\n",
       " 0,\n",
       " 0,\n",
       " 0,\n",
       " 0,\n",
       " 0,\n",
       " 0,\n",
       " 0,\n",
       " 0,\n",
       " 0,\n",
       " 0,\n",
       " 0,\n",
       " 0,\n",
       " 0,\n",
       " 0,\n",
       " 0,\n",
       " 0,\n",
       " 0,\n",
       " 0,\n",
       " 0,\n",
       " 0,\n",
       " 0,\n",
       " 0,\n",
       " 0,\n",
       " 0,\n",
       " 0]"
      ]
     },
     "execution_count": 89,
     "metadata": {},
     "output_type": "execute_result"
    }
   ],
   "source": [
    "pc2_table = [14, 17, 11, 24,  1,  5,  3, 28,\n",
    "             15,  6, 21, 10, 23, 19, 12,  4,\n",
    "             26,  8, 16,  7, 27, 20, 13,  2,\n",
    "             41, 52, 31, 37, 47, 55, 30, 40,\n",
    "             51, 45, 33, 48, 44, 49, 39, 56,\n",
    "             34, 53, 46, 42, 50, 36, 29, 32]\n",
    "\n",
    "#input_key is a bit list\n",
    "def gen_key_for_round(input_key, round):\n",
    "    c_part = input_key[0:28]\n",
    "    d_part = input_key[28:56]\n",
    "    for i in range(round):\n",
    "        if i == 1 or i == 2 or i == 9 or i == 16:\n",
    "            c_part = rotate(c_part, 1)\n",
    "            d_part = rotate(d_part, 1)\n",
    "        else:\n",
    "            c_part = rotate(c_part, 2)\n",
    "            d_part = rotate(d_part, 1)\n",
    "    \n",
    "    rotated_key = c_part + d_part\n",
    "    resulting_key = []\n",
    "    for x in pc2_table:\n",
    "        resulting_key.append(rotated_key[x-1])\n",
    "    return resulting_key\n",
    "    \n",
    "gen_key_for_round([0] * 56, 3)"
   ]
  },
  {
   "cell_type": "code",
   "execution_count": 50,
   "metadata": {
    "collapsed": true
   },
   "outputs": [],
   "source": [
    "def xor_two_bit_lists(bit_list_a, bit_list_b):\n",
    "    return map(lambda x: x[0] ^ x[1], zip(bit_list_a, bit_list_b))"
   ]
  },
  {
   "cell_type": "code",
   "execution_count": 52,
   "metadata": {
    "collapsed": false
   },
   "outputs": [
    {
     "data": {
      "text/plain": [
       "[0, 1, 1, 0]"
      ]
     },
     "execution_count": 52,
     "metadata": {},
     "output_type": "execute_result"
    }
   ],
   "source": [
    "xor_two_bit_lists([0,0,1,1], [0,1,0,1])"
   ]
  },
  {
   "cell_type": "code",
   "execution_count": 76,
   "metadata": {
    "collapsed": false
   },
   "outputs": [
    {
     "data": {
      "text/plain": [
       "[1, 1, 0, 1]"
      ]
     },
     "execution_count": 76,
     "metadata": {},
     "output_type": "execute_result"
    }
   ],
   "source": [
    "def bitlist_to_int(bit_list):\n",
    "    value = 0\n",
    "    for bit in bit_list:\n",
    "        value = (value << 1) | bit\n",
    "    return value\n",
    "\n",
    "def int_to_bitlist(integer):\n",
    "    bitlist = []\n",
    "    for x in range(4):\n",
    "        bitlist = [integer & 0x1] + bitlist\n",
    "        integer = integer >> 1\n",
    "    return bitlist\n",
    "\n",
    "int_to_bitlist(13)"
   ]
  },
  {
   "cell_type": "code",
   "execution_count": 66,
   "metadata": {
    "collapsed": false
   },
   "outputs": [
    {
     "data": {
      "text/plain": [
       "[0, 1, 1, 1]"
      ]
     },
     "execution_count": 66,
     "metadata": {},
     "output_type": "execute_result"
    }
   ],
   "source": [
    "int_to_bitlist(sbox[0][0][0])"
   ]
  },
  {
   "cell_type": "code",
   "execution_count": 92,
   "metadata": {
    "collapsed": false
   },
   "outputs": [
    {
     "name": "stdout",
     "output_type": "stream",
     "text": [
      "[1, 1, 1, 0, 1, 1, 1, 1, 1, 0, 1, 0, 0, 1, 1, 1, 0, 0, 1, 0, 1, 1, 0, 0, 0, 1, 0, 0, 1, 1, 0, 1]\n"
     ]
    }
   ],
   "source": [
    "def use_sboxes_on_bit_list(bit_list):\n",
    "    result = []\n",
    "    for x in range(8):\n",
    "        value = bitlist_to_int(bit_list[x*6:(x+1)*6])\n",
    "        middle = (value >> 1) & 15\n",
    "        ends = ((value >> 5) << 1) + (value & 1)\n",
    "        result = result + int_to_bitlist(sbox[x][ends][middle])\n",
    "    return result\n",
    "        \n",
    "print use_sboxes_on_bit_list([0] * 48)"
   ]
  },
  {
   "cell_type": "code",
   "execution_count": 80,
   "metadata": {
    "collapsed": true
   },
   "outputs": [],
   "source": [
    "permute_table_p = [16,  7, 20, 21, 29, 12, 28, 17,\n",
    "                    1, 15, 23, 26,  5, 18, 31, 10,\n",
    "                    2,  8, 24, 14, 32, 27,  3,  9,\n",
    "                   19, 13, 30,  6, 22, 11,  4, 25]\n",
    "\n",
    "def permute_p(bitlist):\n",
    "    result_list = []\n",
    "    for x in permute_table_p:\n",
    "        result_list.append(bitlist[x-1])\n",
    "    return result_list"
   ]
  },
  {
   "cell_type": "code",
   "execution_count": 95,
   "metadata": {
    "collapsed": false
   },
   "outputs": [
    {
     "name": "stdout",
     "output_type": "stream",
     "text": [
      "[0, 0, 0, 0, 0, 0, 0, 0, 0, 0, 0, 0, 0, 0, 0, 0, 0, 0, 0, 0, 0, 0, 0, 0, 0, 0, 0, 0, 0, 0, 0, 0, 0, 0, 0, 0, 0, 0, 0, 0, 0, 0]\n",
      "[1, 1, 1, 0, 1, 1, 1, 1, 1, 0, 1, 0, 0, 1, 1, 1, 0, 0, 1, 0, 1, 1, 0, 0, 0, 1, 0, 0, 1, 1, 0, 1]\n",
      "[1, 1, 0, 1, 1, 0, 0, 0, 1, 1, 0, 1, 1, 0, 0, 0, 1, 1, 0, 1, 1, 0, 1, 1, 1, 0, 1, 1, 1, 1, 0, 0]\n"
     ]
    }
   ],
   "source": [
    "def encrypt(k, e):\n",
    "    expanded_e = expansion(e)\n",
    "    generated_key = gen_key_for_round(k, 0)\n",
    "    xored_list = xor_two_bit_lists(expanded_e, generated_key)\n",
    "    print xored_list\n",
    "    sboxed_list = use_sboxes_on_bit_list(xored_list)\n",
    "    print sboxed_list\n",
    "    permuted_list = permute_p(sboxed_list)\n",
    "    return permuted_list\n",
    "\n",
    "print encrypt([1] * 56, [1] * 32)"
   ]
  },
  {
   "cell_type": "code",
   "execution_count": null,
   "metadata": {
    "collapsed": true
   },
   "outputs": [],
   "source": []
  }
 ],
 "metadata": {
  "kernelspec": {
   "display_name": "Python 2",
   "language": "python",
   "name": "python2"
  },
  "language_info": {
   "codemirror_mode": {
    "name": "ipython",
    "version": 2
   },
   "file_extension": ".py",
   "mimetype": "text/x-python",
   "name": "python",
   "nbconvert_exporter": "python",
   "pygments_lexer": "ipython2",
   "version": "2.7.9"
  }
 },
 "nbformat": 4,
 "nbformat_minor": 0
}
