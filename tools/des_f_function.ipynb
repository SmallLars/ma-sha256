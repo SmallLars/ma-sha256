{
 "cells": [
  {
   "cell_type": "code",
   "execution_count": null,
   "metadata": {
    "collapsed": true
   },
   "outputs": [],
   "source": [
    "Helperfunctions\n",
    "\n",
    "**xor_two_bit_lists** takes two bitlists *a* and *b* and returns a list with $a_i ^ b_i | 0 < i < min(len(a), len(b))$\n",
    "\n",
    "**rotate** rotates a bitlist by the **factor** times (positive -> left shift, negative -> right shift)\n",
    "\n",
    "The last four functions are for converting integers or hexstrings to the internally used bitlists and back"
   ]
  },
  {
   "cell_type": "code",
   "execution_count": 1,
   "metadata": {
    "collapsed": false
   },
   "outputs": [
    {
     "data": {
      "text/plain": [
       "[0, 0, 0, 0, 0]"
      ]
     },
     "execution_count": 1,
     "metadata": {},
     "output_type": "execute_result"
    }
   ],
   "source": [
    "def xor_two_bit_lists(bit_list_a, bit_list_b):\n",
    "    return map(lambda x: x[0] ^ x[1], zip(bit_list_a, bit_list_b))\n",
    "\n",
    "def rotate(l, factor):\n",
    "    return l[factor:] + l[:factor]\n",
    "\n",
    "def bitlist_to_int(bit_list):\n",
    "    value = 0\n",
    "    for bit in bit_list:\n",
    "        value = (value << 1) | bit\n",
    "    return value\n",
    "\n",
    "def int_to_bitlist(integer):\n",
    "    bitlist = []\n",
    "    for x in range(4):\n",
    "        bitlist = [integer & 0x1] + bitlist\n",
    "        integer = integer >> 1\n",
    "    return bitlist\n",
    "\n",
    "def bitlist_to_hexstring(bitlist):\n",
    "    return str(hex(int(\"\".join(map(lambda x: str(x), bitlist)), base=2))[2:]).zfill(len(bitlist)//4)\n",
    "\n",
    "def hexstring_to_bitlist(hexstring, resulting_length):\n",
    "    if hexstring[-1] == 'L': \n",
    "        hexstring = hexstring[:-1]\n",
    "    bits = bin(int(hexstring, base=16))\n",
    "    bitlist = map(lambda x: int(x), list(bits[2:]))\n",
    "    bitlist = [0] * (resulting_length-len(bitlist))+ bitlist\n",
    "    return bitlist\n",
    "\n",
    "hexstring_to_bitlist(\"00\", 5)\n"
   ]
  },
  {
   "cell_type": "markdown",
   "metadata": {},
   "source": [
    "Reading all sboxes and saving them in the **sbox** list"
   ]
  },
  {
   "cell_type": "code",
   "execution_count": 18,
   "metadata": {
    "collapsed": false
   },
   "outputs": [
    {
     "data": {
      "text/plain": [
       "[[[14, 4, 13, 1, 2, 15, 11, 8, 3, 10, 6, 12, 5, 9, 0, 7],\n",
       "  [0, 15, 7, 4, 14, 2, 13, 1, 10, 6, 12, 11, 9, 5, 3, 8],\n",
       "  [4, 1, 14, 8, 13, 6, 2, 11, 15, 12, 9, 7, 3, 10, 5, 0],\n",
       "  [15, 12, 8, 2, 4, 9, 1, 7, 5, 11, 3, 14, 10, 0, 6, 13]],\n",
       " [[15, 1, 8, 14, 6, 11, 3, 4, 9, 7, 2, 13, 12, 0, 5, 10],\n",
       "  [3, 13, 4, 7, 15, 2, 8, 14, 12, 0, 1, 10, 6, 9, 11, 5],\n",
       "  [0, 14, 7, 11, 10, 4, 13, 1, 5, 8, 12, 6, 9, 3, 2, 15],\n",
       "  [13, 8, 10, 1, 3, 15, 4, 2, 11, 6, 7, 12, 0, 5, 14, 9]],\n",
       " [[10, 0, 9, 14, 6, 3, 15, 5, 1, 13, 12, 7, 11, 4, 2, 8],\n",
       "  [13, 7, 0, 9, 3, 4, 6, 10, 2, 8, 5, 14, 12, 11, 15, 1],\n",
       "  [13, 6, 4, 9, 8, 15, 3, 0, 11, 1, 2, 12, 5, 10, 14, 7],\n",
       "  [1, 10, 13, 0, 6, 9, 8, 7, 4, 15, 14, 3, 11, 5, 2, 12]],\n",
       " [[7, 13, 14, 3, 0, 6, 9, 10, 1, 2, 8, 5, 11, 12, 4, 15],\n",
       "  [13, 8, 11, 5, 6, 15, 0, 3, 4, 7, 2, 12, 1, 10, 14, 9],\n",
       "  [10, 6, 9, 0, 12, 11, 7, 13, 15, 1, 3, 14, 5, 2, 8, 4],\n",
       "  [3, 15, 0, 6, 10, 1, 13, 8, 9, 4, 5, 11, 12, 7, 2, 14]],\n",
       " [[2, 12, 4, 1, 7, 10, 11, 6, 8, 5, 3, 15, 13, 0, 14, 9],\n",
       "  [14, 11, 2, 12, 4, 7, 13, 1, 5, 0, 15, 10, 3, 9, 8, 6],\n",
       "  [4, 2, 1, 11, 10, 13, 7, 8, 15, 9, 12, 5, 6, 3, 0, 14],\n",
       "  [11, 8, 12, 7, 1, 14, 2, 13, 6, 15, 0, 9, 10, 4, 5, 3]],\n",
       " [[12, 1, 10, 15, 9, 2, 6, 8, 0, 13, 3, 4, 14, 7, 5, 11],\n",
       "  [10, 15, 4, 2, 7, 12, 9, 5, 6, 1, 13, 14, 0, 11, 3, 8],\n",
       "  [9, 14, 15, 5, 2, 8, 12, 3, 7, 0, 4, 10, 1, 13, 11, 6],\n",
       "  [4, 3, 2, 12, 9, 5, 15, 10, 11, 14, 1, 7, 6, 0, 8, 13]],\n",
       " [[4, 11, 2, 14, 15, 0, 8, 13, 3, 12, 9, 7, 5, 10, 6, 1],\n",
       "  [13, 0, 11, 7, 4, 9, 1, 10, 14, 3, 5, 12, 2, 15, 8, 6],\n",
       "  [1, 4, 11, 13, 12, 3, 7, 14, 10, 15, 6, 8, 0, 5, 9, 2],\n",
       "  [6, 11, 13, 8, 1, 4, 10, 7, 9, 5, 0, 15, 14, 2, 3, 12]],\n",
       " [[13, 2, 8, 4, 6, 15, 11, 1, 10, 9, 3, 14, 5, 0, 12, 7],\n",
       "  [1, 15, 13, 8, 10, 3, 7, 4, 12, 5, 6, 11, 0, 14, 9, 2],\n",
       "  [7, 11, 4, 1, 9, 12, 14, 2, 0, 6, 10, 13, 15, 3, 5, 8],\n",
       "  [2, 1, 14, 7, 4, 10, 8, 13, 15, 12, 9, 0, 3, 5, 6, 11]]]"
      ]
     },
     "execution_count": 18,
     "metadata": {},
     "output_type": "execute_result"
    }
   ],
   "source": [
    "sbox = []\n",
    "for x in range(1, 9):\n",
    "    input_table = [list() for i in range(4)]\n",
    "    input_file = open(\"sboxes/sbox%s.txt\" % x, \"r\")\n",
    "    for i in range(4):\n",
    "        for line_index in range(16):\n",
    "            input_table[i].append(int(input_file.readline()))\n",
    "    sbox.append(input_table)\n",
    "sbox"
   ]
  },
  {
   "cell_type": "markdown",
   "metadata": {},
   "source": [
    "Definition of the many permutation tables used in the DES Encryption"
   ]
  },
  {
   "cell_type": "code",
   "execution_count": 3,
   "metadata": {
    "collapsed": false
   },
   "outputs": [],
   "source": [
    "expansion_table = [32,  1,  2,  3,  4,  5,\n",
    "                    4,  5,  6,  7,  8,  9,\n",
    "                    8,  9, 10, 11, 12, 13,\n",
    "                   12, 13, 14, 15, 16, 17,\n",
    "                   16, 17, 18, 19, 20, 21,\n",
    "                   20, 21, 22, 23, 24, 25,\n",
    "                   24, 25, 26, 27, 28, 29,\n",
    "                   28, 29, 30, 31, 32,  1]\n",
    "\n",
    "pc1_table = [57, 49, 41, 33, 25, 17,  9,  1,\n",
    "             58, 50, 42, 34, 26, 18, 10,  2,\n",
    "             59, 51, 43, 35, 27, 19, 11,  3,\n",
    "             60, 52, 44, 36, 63, 55, 47, 39,\n",
    "             31, 23, 15,  7, 62, 54, 46, 38,\n",
    "             30, 22, 14,  6, 61, 53, 45, 37,\n",
    "             29, 21, 13,  5, 28, 20, 12,  4]\n",
    "\n",
    "pc2_table = [14, 17, 11, 24,  1,  5,  3, 28,\n",
    "             15,  6, 21, 10, 23, 19, 12,  4,\n",
    "             26,  8, 16,  7, 27, 20, 13,  2,\n",
    "             41, 52, 31, 37, 47, 55, 30, 40,\n",
    "             51, 45, 33, 48, 44, 49, 39, 56,\n",
    "             34, 53, 46, 42, 50, 36, 29, 32]\n",
    "\n",
    "permute_table_p = [16,  7, 20, 21, 29, 12, 28, 17,\n",
    "                    1, 15, 23, 26,  5, 18, 31, 10,\n",
    "                    2,  8, 24, 14, 32, 27,  3,  9,\n",
    "                   19, 13, 30,  6, 22, 11,  4, 25]\n",
    "\n",
    "initial_permutation_table = [58, 50, 42, 34, 26, 18, 10,  2,\n",
    "                             60, 52, 44, 36, 28, 20, 12,  4,\n",
    "                             62, 54, 46, 38, 30, 22, 14,  6,\n",
    "                             64, 56, 48, 40, 32, 24, 16,  8,\n",
    "                             57, 49, 41, 33, 25, 17,  9,  1,\n",
    "                             59, 51, 43, 35, 27, 19, 11,  3,\n",
    "                             61, 53, 45, 37, 29, 21, 13,  5,\n",
    "                             63, 55, 47, 39, 31, 23, 15,  7]\n",
    "\n",
    "final_permutation_table = [40, 8, 48, 16, 56, 24, 64, 32,\n",
    "                           39, 7, 47, 15, 55, 23, 63, 31,\n",
    "                           38, 6, 46, 14, 54, 22, 62, 30,\n",
    "                           37, 5, 45, 13, 53, 21, 61, 29,\n",
    "                           36, 4, 44, 12, 52, 20, 60, 28,\n",
    "                           35, 3, 43, 11, 51, 19, 59, 27,\n",
    "                           34, 2, 42, 10, 50, 18, 58, 26,\n",
    "                           33, 1, 41,  9, 49, 17, 57, 25]\n",
    "\n",
    "# input is a bit list\n",
    "def permutation(inputlist, permutation_table):\n",
    "    result = []\n",
    "    for x in permutation_table:\n",
    "        result.append(inputlist[x-1])\n",
    "    return result"
   ]
  },
  {
   "cell_type": "code",
   "execution_count": 42,
   "metadata": {
    "collapsed": false
   },
   "outputs": [
    {
     "data": {
      "text/plain": [
       "'fffcf3e000000a'"
      ]
     },
     "execution_count": 42,
     "metadata": {},
     "output_type": "execute_result"
    }
   ],
   "source": [
    "bitlist_to_hexstring(permutation(hexstring_to_bitlist(\"0xA0B1C0D1E1F0F0F0\", 64), pc1_table))"
   ]
  },
  {
   "cell_type": "markdown",
   "metadata": {},
   "source": [
    "Genertating the round key using input key, which has been stripped from its parity bits (using permutation table **permute_table_p**)"
   ]
  },
  {
   "cell_type": "code",
   "execution_count": 4,
   "metadata": {
    "collapsed": false
   },
   "outputs": [
    {
     "name": "stdout",
     "output_type": "stream",
     "text": [
      "[0, 0, 0, 0, 0, 0, 0, 0, 0, 0, 0, 0, 0, 0, 0, 0, 0, 0, 0, 0, 0, 0, 0, 0, 0, 0, 0, 0, 0, 0, 0, 0, 0, 0, 0, 0, 0, 0, 0, 0, 0, 0, 0, 0, 0, 0, 0, 0]\n"
     ]
    }
   ],
   "source": [
    "#input_key is a bit list\n",
    "def gen_key_for_round(input_key, round):\n",
    "    c_part = input_key[0:28]\n",
    "    d_part = input_key[28:56]\n",
    "    for i in range(round):\n",
    "        if i == 0 or i == 1 or i == 8 or i == 15:\n",
    "            c_part = rotate(c_part, 1)\n",
    "            d_part = rotate(d_part, 1)\n",
    "        else:\n",
    "            c_part = rotate(c_part, 2)\n",
    "            d_part = rotate(d_part, 2)\n",
    "    \n",
    "    rotated_key = c_part + d_part\n",
    "    return permutation(rotated_key, pc2_table)\n",
    "    \n",
    "print gen_key_for_round([0] * 56, 3)"
   ]
  },
  {
   "cell_type": "code",
   "execution_count": 5,
   "metadata": {
    "collapsed": false
   },
   "outputs": [
    {
     "name": "stdout",
     "output_type": "stream",
     "text": [
      "[1, 1, 0, 0, 0, 0, 0, 1, 0, 1, 0, 1, 0, 0, 1, 0, 1, 1, 1, 1, 1, 1, 0, 1, 0, 1, 0, 1, 0, 1, 1, 0]\n"
     ]
    }
   ],
   "source": [
    "def use_sboxes_on_bit_list(bit_list):\n",
    "    result = []\n",
    "    for x in range(8):\n",
    "        value = bitlist_to_int(bit_list[x*6:(x+1)*6])\n",
    "        middle = (value >> 1) & 15\n",
    "        ends = ((value >> 5) << 1) + (value & 1)\n",
    "        result = result + int_to_bitlist(sbox[x][ends][middle])\n",
    "    return result\n",
    "        \n",
    "print use_sboxes_on_bit_list([0, 1] * 24)"
   ]
  },
  {
   "cell_type": "markdown",
   "metadata": {},
   "source": [
    "implements the DES Feistel function, **k** must have a length of 56 (parity bits are stripped -> to do that use the pc1 permutation). The result needs to be permuted by P (**permute_table_p**) for using it further in the DES encryption."
   ]
  },
  {
   "cell_type": "code",
   "execution_count": 7,
   "metadata": {
    "collapsed": false
   },
   "outputs": [
    {
     "name": "stdout",
     "output_type": "stream",
     "text": [
      "efa72c4d\n",
      "5bb997f3\n"
     ]
    }
   ],
   "source": [
    "def des_f_function(k, e, round):\n",
    "    expanded_e = permutation(e, expansion_table)\n",
    "    generated_key = gen_key_for_round(k, round)\n",
    "    xored_list = xor_two_bit_lists(expanded_e, generated_key)\n",
    "    sboxed_list = use_sboxes_on_bit_list(xored_list)\n",
    "    return sboxed_list\n",
    "\n",
    "print bitlist_to_hexstring(des_f_function([1] * 56, [1] * 32, 0))\n",
    "print bitlist_to_hexstring(des_f_function([0] * 56, hexstring_to_bitlist(\"d8d8dbbc\", 8), 1))"
   ]
  },
  {
   "cell_type": "markdown",
   "metadata": {},
   "source": [
    "**des_encrypt** implements a complete encryption of a 64 bit plaintext block with a 56 bit key (see **des_f_function** for further instructions on how to strip the parity bits)."
   ]
  },
  {
   "cell_type": "code",
   "execution_count": 8,
   "metadata": {
    "collapsed": false
   },
   "outputs": [
    {
     "name": "stdout",
     "output_type": "stream",
     "text": [
      "8ca64de9c1b123a7L\n"
     ]
    }
   ],
   "source": [
    "# plaintext is 64 bit long\n",
    "def des_encrypt(k, plaintext):\n",
    "    #initial permutation\n",
    "    l = plaintext[0:32]\n",
    "    r = plaintext[32:64]\n",
    "    for x in range(16):\n",
    "        temp = r\n",
    "        f_function_result = permutation(des_f_function(k, r, x+1), permute_table_p)\n",
    "        r = xor_two_bit_lists(l, f_function_result)\n",
    "        l = temp\n",
    "    return permutation(r + l, final_permutation_table)\n",
    "\n",
    "print bitlist_to_hexstring(des_encrypt([0] * 56, [0] * 64))"
   ]
  },
  {
   "cell_type": "markdown",
   "metadata": {},
   "source": [
    "print the result of **des_f_function** using random values. This was used to verify the correctness of **des_f_function**"
   ]
  },
  {
   "cell_type": "code",
   "execution_count": 10,
   "metadata": {
    "collapsed": false
   },
   "outputs": [
    {
     "name": "stdout",
     "output_type": "stream",
     "text": [
      "plaintext e         : 0x570deb53dbc17db3\n",
      "key k               : 0x40585820c213c6a0\n",
      "key k without parity: 0xd0578827040066\n",
      "round               : 3\n",
      "r                   : 0xb4c4569d\n",
      "round_key           : 0xab80a632044a\n",
      "f_function result   : 0x46f51b26\n"
     ]
    }
   ],
   "source": [
    "from random import randint\n",
    "input_value = hex(randint(0, 2**64))\n",
    "r = permutation(hexstring_to_bitlist(input_value, 64), initial_permutation_table)[32:64]\n",
    "input_key = hex(randint(0, 2**64))\n",
    "real_key = permutation(hexstring_to_bitlist(input_key, 64), pc1_table)\n",
    "input_round = randint(1, 16)\n",
    "\n",
    "print \"plaintext e         : %s\" % input_value\n",
    "print \"key k               : %s\" % input_key\n",
    "print \"key k without parity: 0x%s\" % bitlist_to_hexstring(real_key)\n",
    "print \"round               : %d\" % input_round\n",
    "print \"r                   : 0x%s\" % bitlist_to_hexstring(r)\n",
    "print \"round_key           : 0x%s\" % bitlist_to_hexstring(gen_key_for_round(real_key, 1))\n",
    "print \"f_function result   : 0x%s\" % bitlist_to_hexstring(permutation(des_f_function(real_key, r, input_round), permute_table_p))"
   ]
  },
  {
   "cell_type": "markdown",
   "metadata": {},
   "source": [
    "print the result of **des_encrypt** using random values. This was used to verify the correctness of **des_encrypt**"
   ]
  },
  {
   "cell_type": "code",
   "execution_count": 13,
   "metadata": {
    "collapsed": false
   },
   "outputs": [
    {
     "name": "stdout",
     "output_type": "stream",
     "text": [
      "plaintext e         : 0x873b43c42837a76\n",
      "key k               : 0x262b523964ef65df\n",
      "key k without parity: a0f47b8a7f1aac\n",
      "round               : 1\n",
      "r                   : b4c4569d\n",
      "round_key           : 711c47523bec\n",
      "des_encrypt result  : 0x1bb67eb64c92838e\n"
     ]
    }
   ],
   "source": [
    "from random import randint\n",
    "input_value = hex(randint(0, 2**64))\n",
    "lr = permutation(hexstring_to_bitlist(input_value, 64), initial_permutation_table)\n",
    "input_key = hex(randint(0, 2**64))\n",
    "real_key = permutation(hexstring_to_bitlist(input_key, 64), pc1_table)\n",
    "input_round = 1# randint(1, 16)\n",
    "\n",
    "print \"plaintext e         : %s\" % input_value\n",
    "print \"key k               : %s\" % input_key\n",
    "print \"key k without parity: %s\" % bitlist_to_hexstring(real_key)\n",
    "print \"round               : %d\" % input_round\n",
    "print \"r                   : %s\" % bitlist_to_hexstring(r)\n",
    "print \"round_key           : %s\" % bitlist_to_hexstring(gen_key_for_round(real_key, 1))\n",
    "print \"des_encrypt result  : 0x%s\" % bitlist_to_hexstring(des_encrypt(real_key, lr))"
   ]
  },
  {
   "cell_type": "markdown",
   "metadata": {},
   "source": [
    "generating and formating of random testcases for the DES Feistel function implementation in the SAT solver."
   ]
  },
  {
   "cell_type": "code",
   "execution_count": 21,
   "metadata": {
    "collapsed": false
   },
   "outputs": [
    {
     "name": "stdout",
     "output_type": "stream",
     "text": [
      "unsigned r[] = {1};\n",
      "unsigned e[] = {0x00000000};\n",
      "uint64_t k[] = {0x00000000000000};\n",
      "unsigned out[] = {0xefa72c4d};\n"
     ]
    }
   ],
   "source": [
    "from random import randint\n",
    "def f_function_test_gen(number_of_tests):\n",
    "    rounds = []\n",
    "    e = []\n",
    "    k = []\n",
    "    out = []\n",
    "    for x in enumerate(range(number_of_tests)):\n",
    "        input_value = \"0x0\"#hex(randint(0, 2**64))\n",
    "        right = permutation(hexstring_to_bitlist(input_value, 64), initial_permutation_table)[32:64]\n",
    "        input_key = \"0x0\"#hex(randint(0, 2**64))\n",
    "        real_key = permutation(hexstring_to_bitlist(input_key, 64), pc1_table)\n",
    "        input_round = 1#randint(1, 16)\n",
    "        rounds.append(input_round)\n",
    "        e.append(\"0x%s\" % bitlist_to_hexstring(right))\n",
    "        k.append(\"0x%s\" % bitlist_to_hexstring(real_key))\n",
    "        out.append(\"0x%s\" % bitlist_to_hexstring(des_f_function(real_key, right, input_round)))\n",
    "    \n",
    "    print \"unsigned r[] = {%s};\" % str(rounds)[1:-1]\n",
    "    print \"unsigned e[] = {%s};\" % str(e)[1:-1].translate(None, \"\\'\")\n",
    "    print \"uint64_t k[] = {%s};\" % str(k)[1:-1].translate(None, \"\\'\")\n",
    "    print \"unsigned out[] = {%s};\" % str(out)[1:-1].translate(None, \"\\'\")\n",
    "\n",
    "f_function_test_gen(1)"
   ]
  },
  {
   "cell_type": "code",
   "execution_count": 28,
   "metadata": {
    "collapsed": false
   },
   "outputs": [
    {
     "name": "stdout",
     "output_type": "stream",
     "text": [
      "unsigned rounds[] = {14, 3, 13, 9, 16};\n",
      "unsigned l[] = {0x9b2804e5, 0x1a9d81a9, 0x1b99583b, 0x4e483c99, 0x2f55f6d4};\n",
      "unsigned r[] = {0xf9b30580, 0x23f531c6, 0x30ca658a, 0xdcccb5e9, 0x5d678ac4};\n",
      "uint64_t k[] = {0xe4b2fe90d41b18, 0x140d1c4cfb54ec, 0x52ae1ba3880752, 0xc195f219da034b, 0xd23e8963f180d7};\n",
      "unsigned out[] = {0x9ce63fc0, 0xa0d07251, 0xe773b792, 0x7608b8be, 0x0560bc23};\n"
     ]
    }
   ],
   "source": [
    "from random import randint\n",
    "def round_test_gen(number_of_tests):\n",
    "    rounds = []\n",
    "    l = []\n",
    "    r = []\n",
    "    k = []\n",
    "    out = []\n",
    "    for x in enumerate(range(number_of_tests)):\n",
    "        input_value = hex(randint(0, 2**64))\n",
    "        right = hexstring_to_bitlist(input_value, 64)[32:64]\n",
    "        left = hexstring_to_bitlist(input_value, 64)[0:32]\n",
    "        input_key = hex(randint(0, 2**64))\n",
    "        real_key = permutation(hexstring_to_bitlist(input_key, 64), pc1_table)\n",
    "        input_round = randint(1, 16)\n",
    "        rounds.append(input_round)\n",
    "        l.append(\"0x%s\" % bitlist_to_hexstring(left))\n",
    "        r.append(\"0x%s\" % bitlist_to_hexstring(right))\n",
    "        k.append(\"0x%s\" % bitlist_to_hexstring(real_key))\n",
    "        f_result = des_f_function(real_key, right, input_round)\n",
    "        permuted_f_result = permutation(f_result, permute_table_p)\n",
    "        xor_new_r_old_l = xor_two_bit_lists(permuted_f_result, left)\n",
    "        out.append(\"0x%s\" % bitlist_to_hexstring(xor_new_r_old_l))\n",
    "    \n",
    "    print \"unsigned rounds[] = {%s};\" % str(rounds)[1:-1]\n",
    "    print \"unsigned l[] = {%s};\" % str(l)[1:-1].translate(None, \"\\'\")\n",
    "    print \"unsigned r[] = {%s};\" % str(r)[1:-1].translate(None, \"\\'\")\n",
    "    print \"uint64_t k[] = {%s};\" % str(k)[1:-1].translate(None, \"\\'\")\n",
    "    print \"unsigned out[] = {%s};\" % str(out)[1:-1].translate(None, \"\\'\")\n",
    "\n",
    "round_test_gen(5)"
   ]
  },
  {
   "cell_type": "code",
   "execution_count": 36,
   "metadata": {
    "collapsed": false
   },
   "outputs": [
    {
     "name": "stdout",
     "output_type": "stream",
     "text": [
      "1c2087fcbbea0dc2\n"
     ]
    }
   ],
   "source": [
    "# plaintext is 64 bit long\n",
    "def des_encrypt_without_permutations(k, plaintext):\n",
    "    #initial permutation\n",
    "    l = plaintext[0:32]\n",
    "    r = plaintext[32:64]\n",
    "    for x in range(16):\n",
    "        temp = r\n",
    "        f_function_result = permutation(des_f_function(k, r, x+1), permute_table_p)\n",
    "        r = xor_two_bit_lists(l, f_function_result)\n",
    "        l = temp\n",
    "    return r + l\n",
    "\n",
    "print bitlist_to_hexstring(des_encrypt_without_permutations([0] * 56, [0] * 64))"
   ]
  },
  {
   "cell_type": "code",
   "execution_count": 39,
   "metadata": {
    "collapsed": false
   },
   "outputs": [
    {
     "name": "stdout",
     "output_type": "stream",
     "text": [
      "uint64_t input[] = {0x5f4fa737c38bc47d, 0xfe099c64b371af98L, 0x1b52740ffd6225a5, 0xc5600e0cb0f85e79L, 0x51770b0705a373db};\n",
      "uint64_t k[] = {0x6c79ac0d445e39, 0xa067b5d99a49b7, 0x3319690ad91dff, 0xb010c07e36c3fd, 0xf823d812338acf};\n",
      "uint64_t out[] = {0xe73899b620788117L, 0x6f6285a606c902ca, 0xc0f1ececf6a017a0L, 0xb2605cb8f1c629e9L, 0xbfb32c5460589416L};\n"
     ]
    }
   ],
   "source": [
    "from random import randint\n",
    "def round_test_gen(number_of_tests):\n",
    "    inputs = []\n",
    "    k = []\n",
    "    out = []\n",
    "    for x in enumerate(range(number_of_tests)):\n",
    "        input_value = hex(randint(0, 2**64))\n",
    "        permuted_input = permutation(hexstring_to_bitlist(input_value, 64), initial_permutation_table)\n",
    "        right = permuted_input[32:64]\n",
    "        left = permuted_input[0:32]\n",
    "        input_key = hex(randint(0, 2**64))\n",
    "        real_key = permutation(hexstring_to_bitlist(input_key, 64), pc1_table)\n",
    "        inputs.append(\"0x%s\" % bitlist_to_hexstring(left + right))\n",
    "        k.append(\"0x%s\" % bitlist_to_hexstring(real_key))\n",
    "        des_encrypt_result = des_encrypt_without_permutations(real_key, left + right)\n",
    "        out.append(\"0x%s\" % bitlist_to_hexstring(des_encrypt_result))\n",
    "    \n",
    "    print \"uint64_t input[] = {%s};\" % str(inputs)[1:-1].translate(None, \"\\'\")\n",
    "    print \"uint64_t k[] = {%s};\" % str(k)[1:-1].translate(None, \"\\'\")\n",
    "    print \"uint64_t out[] = {%s};\" % str(out)[1:-1].translate(None, \"\\'\")\n",
    "\n",
    "round_test_gen(5)"
   ]
  },
  {
   "cell_type": "code",
   "execution_count": 60,
   "metadata": {
    "collapsed": false
   },
   "outputs": [
    {
     "name": "stdout",
     "output_type": "stream",
     "text": [
      "plaintext e         : 4c6172734a656e73\n",
      "key k               : 4a656e734c617273\n",
      "key k without parity: 00ffeeccd16158\n",
      "round               : 1\n",
      "r                   : b4c4569d\n",
      "round_key           : f0b266c8a713\n",
      "des_encrypt result  : 0x70d80826b159ee30\n",
      "ruby result         : 0x70d80826b159ee30\n"
     ]
    }
   ],
   "source": [
    "from random import randint\n",
    "input_value = \"LarsJens\".encode('hex')\n",
    "lr = permutation(hexstring_to_bitlist(input_value, 64), initial_permutation_table)\n",
    "input_key = \"JensLars\".encode('hex')\n",
    "real_key = permutation(hexstring_to_bitlist(input_key, 64), pc1_table)\n",
    "input_round = 1# randint(1, 16)\n",
    "\n",
    "print \"plaintext e         : %s\" % input_value\n",
    "print \"key k               : %s\" % input_key\n",
    "print \"key k without parity: %s\" % bitlist_to_hexstring(real_key)\n",
    "print \"round               : %d\" % input_round\n",
    "print \"r                   : %s\" % bitlist_to_hexstring(r)\n",
    "print \"round_key           : %s\" % bitlist_to_hexstring(gen_key_for_round(real_key, 1))\n",
    "print \"des_encrypt result  : 0x%s\" % bitlist_to_hexstring(des_encrypt(real_key, lr))\n",
    "print \"ruby result         : 0x70d80826b159ee30\""
   ]
  },
  {
   "cell_type": "code",
   "execution_count": null,
   "metadata": {
    "collapsed": true
   },
   "outputs": [],
   "source": []
  }
 ],
 "metadata": {
  "kernelspec": {
   "display_name": "Python 2",
   "language": "python",
   "name": "python2"
  },
  "language_info": {
   "codemirror_mode": {
    "name": "ipython",
    "version": 2
   },
   "file_extension": ".py",
   "mimetype": "text/x-python",
   "name": "python",
   "nbconvert_exporter": "python",
   "pygments_lexer": "ipython2",
   "version": "2.7.9"
  }
 },
 "nbformat": 4,
 "nbformat_minor": 0
}
