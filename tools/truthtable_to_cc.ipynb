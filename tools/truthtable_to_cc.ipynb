{
 "cells": [
  {
   "cell_type": "code",
   "execution_count": 2,
   "metadata": {
    "collapsed": false
   },
   "outputs": [
    {
     "name": "stdout",
     "output_type": "stream",
     "text": [
      "Populating the interactive namespace from numpy and matplotlib\n"
     ]
    }
   ],
   "source": [
    "pylab inline"
   ]
  },
  {
   "cell_type": "code",
   "execution_count": 19,
   "metadata": {
    "collapsed": false
   },
   "outputs": [
    {
     "name": "stdout",
     "output_type": "stream",
     "text": [
      "    cc.printClause(10,     0, CC_DC, CC_DC,     1,     0, CC_DC,     0,     0, CC_DC,     0);\n",
      "    cc.printClause(10,     1,     0, CC_DC,     0, CC_DC, CC_DC, CC_DC,     0,     1,     0);\n",
      "    cc.printClause(10, CC_DC,     1, CC_DC,     0,     1,     0,     1, CC_DC, CC_DC,     1);\n",
      "    cc.printClause(10,     0,     0,     1, CC_DC, CC_DC, CC_DC,     1, CC_DC, CC_DC,     0);\n",
      "    cc.printClause(10,     1,     0,     1,     1, CC_DC, CC_DC, CC_DC,     0,     0, CC_DC);\n",
      "    cc.printClause(10, CC_DC,     0,     1,     0,     0,     1, CC_DC,     1, CC_DC, CC_DC);\n",
      "    cc.printClause(10, CC_DC,     1, CC_DC,     1,     0,     0, CC_DC, CC_DC,     1,     1);\n",
      "    cc.printClause(10,     0, CC_DC, CC_DC,     1,     1, CC_DC,     1, CC_DC,     1,     0);\n",
      "    cc.printClause(10, CC_DC,     1,     1, CC_DC,     1,     0, CC_DC, CC_DC,     1,     1);\n",
      "    cc.printClause(10,     1,     1, CC_DC,     1,     0, CC_DC, CC_DC, CC_DC,     1, CC_DC);\n",
      "    cc.printClause(10, CC_DC,     1, CC_DC, CC_DC,     0,     1, CC_DC,     1,     1,     1);\n",
      "    cc.printClause(10, CC_DC,     0,     0,     0, CC_DC, CC_DC,     0, CC_DC,     0,     1);\n",
      "    cc.printClause(10, CC_DC,     1,     1,     1,     1, CC_DC,     0, CC_DC,     0, CC_DC);\n",
      "    cc.printClause(10,     0, CC_DC, CC_DC,     1, CC_DC,     1, CC_DC,     1,     0,     1);\n",
      "    cc.printClause(10,     0, CC_DC,     0,     1,     1, CC_DC, CC_DC,     1, CC_DC,     1);\n",
      "    cc.printClause(10, CC_DC, CC_DC,     0,     0,     0,     0,     0, CC_DC, CC_DC,     1);\n",
      "    cc.printClause(10, CC_DC,     1, CC_DC, CC_DC, CC_DC,     0,     0,     1, CC_DC,     0);\n",
      "    cc.printClause(10, CC_DC,     0,     0,     1,     0,     1, CC_DC,     0, CC_DC, CC_DC);\n",
      "    cc.printClause(10, CC_DC,     1,     0,     1,     0,     1, CC_DC,     1, CC_DC, CC_DC);\n",
      "    cc.printClause(10,     1, CC_DC,     1, CC_DC,     1, CC_DC,     1,     0, CC_DC,     0);\n",
      "    cc.printClause(10, CC_DC,     1,     1, CC_DC, CC_DC,     0,     1, CC_DC,     1,     1);\n",
      "    cc.printClause(10,     1, CC_DC,     0, CC_DC, CC_DC,     1,     1,     1,     0, CC_DC);\n",
      "    cc.printClause(10,     1, CC_DC,     1,     0,     0, CC_DC,     1, CC_DC,     0, CC_DC);\n",
      "    cc.printClause(10,     1,     0,     1,     0,     1, CC_DC,     0, CC_DC, CC_DC, CC_DC);\n",
      "    cc.printClause(10, CC_DC, CC_DC,     0,     0, CC_DC,     1,     1,     0, CC_DC,     1);\n",
      "    cc.printClause(10,     1,     1, CC_DC,     0,     1, CC_DC, CC_DC,     0, CC_DC,     1);\n",
      "    cc.printClause(10,     0,     0,     1, CC_DC,     1,     0, CC_DC, CC_DC, CC_DC,     1);\n",
      "    cc.printClause(10, CC_DC, CC_DC,     1, CC_DC,     1,     1, CC_DC,     1,     1,     0);\n",
      "    cc.printClause(10,     1,     1,     1, CC_DC, CC_DC,     1, CC_DC,     1, CC_DC,     0);\n",
      "    cc.printClause(10, CC_DC,     0,     0, CC_DC, CC_DC, CC_DC,     0,     0,     1,     0);\n",
      "    cc.printClause(10,     1,     0,     0,     0, CC_DC,     0, CC_DC,     0, CC_DC, CC_DC);\n",
      "    cc.printClause(10,     0, CC_DC,     0,     1,     1,     1,     1, CC_DC, CC_DC, CC_DC);\n",
      "    cc.printClause(10,     0, CC_DC,     0,     0, CC_DC, CC_DC, CC_DC,     1,     1,     0);\n",
      "    cc.printClause(10,     1,     0,     0,     1, CC_DC,     0, CC_DC, CC_DC, CC_DC,     0);\n",
      "    cc.printClause(10, CC_DC,     1,     1,     0, CC_DC,     1, CC_DC, CC_DC,     0, CC_DC);\n",
      "    cc.printClause(10,     1,     0,     1,     1, CC_DC, CC_DC,     1,     1, CC_DC, CC_DC);\n",
      "    cc.printClause(10,     0,     0,     0,     0,     0, CC_DC,     1, CC_DC, CC_DC, CC_DC);\n",
      "    cc.printClause(10, CC_DC,     0, CC_DC, CC_DC,     1, CC_DC,     0,     1,     1,     1);\n",
      "    cc.printClause(10,     0,     1, CC_DC, CC_DC, CC_DC,     1, CC_DC,     1,     1,     1);\n",
      "    cc.printClause(10, CC_DC,     1,     0, CC_DC, CC_DC,     0,     1,     1, CC_DC,     1);\n",
      "    cc.printClause(10,     1, CC_DC, CC_DC,     1,     0,     1,     1,     0, CC_DC, CC_DC);\n",
      "    cc.printClause(10, CC_DC,     1, CC_DC,     0, CC_DC, CC_DC,     0,     1,     1,     0);\n",
      "    cc.printClause(10,     1,     0,     0, CC_DC,     0, CC_DC, CC_DC,     1, CC_DC,     0);\n",
      "    cc.printClause(10,     1,     0, CC_DC,     0,     0, CC_DC, CC_DC, CC_DC,     1, CC_DC);\n",
      "    cc.printClause(10,     0,     1,     1,     1, CC_DC,     1, CC_DC, CC_DC,     1, CC_DC);\n",
      "    cc.printClause(10,     0, CC_DC,     1, CC_DC,     0, CC_DC,     1,     1,     0, CC_DC);\n",
      "    cc.printClause(10, CC_DC, CC_DC,     1, CC_DC,     0,     0, CC_DC, CC_DC,     0,     1);\n",
      "    cc.printClause(10, CC_DC,     1,     1,     1,     1,     1, CC_DC, CC_DC, CC_DC,     1);\n",
      "    cc.printClause(10,     0, CC_DC,     1,     0,     0,     0,     0, CC_DC, CC_DC, CC_DC);\n",
      "    cc.printClause(10, CC_DC,     1, CC_DC, CC_DC, CC_DC,     1,     0,     1,     0,     1);\n",
      "    cc.printClause(10, CC_DC,     1,     0,     1,     1, CC_DC, CC_DC, CC_DC,     0,     0);\n",
      "    cc.printClause(10, CC_DC,     1,     0,     0,     0, CC_DC, CC_DC, CC_DC,     0,     0);\n",
      "    cc.printClause(10,     1, CC_DC,     1,     1, CC_DC,     0, CC_DC,     1,     0, CC_DC);\n",
      "    cc.printClause(10, CC_DC,     1,     0, CC_DC, CC_DC,     0,     0,     0,     0, CC_DC);\n",
      "    cc.printClause(10, CC_DC, CC_DC,     0,     1,     1, CC_DC,     0,     0, CC_DC,     1);\n",
      "    cc.printClause(10, CC_DC, CC_DC,     1,     1,     1, CC_DC, CC_DC,     1,     0,     0);\n",
      "    cc.printClause(10,     0,     0, CC_DC,     1,     0,     1, CC_DC, CC_DC,     1, CC_DC);\n",
      "    cc.printClause(10, CC_DC, CC_DC,     1,     1, CC_DC,     1,     0,     0,     0, CC_DC);\n",
      "    cc.printClause(10,     0,     1,     0,     1,     0, CC_DC,     1, CC_DC, CC_DC, CC_DC);\n",
      "    cc.printClause(10,     0,     0,     0,     1, CC_DC,     0,     0, CC_DC, CC_DC, CC_DC);\n",
      "    cc.printClause(10,     0, CC_DC,     1,     1,     0, CC_DC, CC_DC,     0, CC_DC,     0);\n",
      "    cc.printClause(10,     1, CC_DC, CC_DC,     1,     0, CC_DC,     0,     1, CC_DC,     1);\n",
      "    cc.printClause(10, CC_DC,     0, CC_DC, CC_DC,     0,     1,     0,     1,     0, CC_DC);\n",
      "    cc.printClause(10, CC_DC, CC_DC, CC_DC,     0, CC_DC,     0,     1, CC_DC,     1,     0);\n",
      "    cc.printClause(10, CC_DC,     0, CC_DC, CC_DC, CC_DC, CC_DC,     1,     0,     1,     1);\n",
      "    cc.printClause(10,     1,     1,     0, CC_DC,     1, CC_DC, CC_DC, CC_DC,     1, CC_DC);\n",
      "    cc.printClause(10,     1,     0,     0, CC_DC,     1, CC_DC, CC_DC, CC_DC,     0, CC_DC);\n",
      "    cc.printClause(10,     0, CC_DC, CC_DC,     0,     1, CC_DC, CC_DC, CC_DC,     0,     0);\n",
      "    cc.printClause(10, CC_DC, CC_DC, CC_DC,     0,     1, CC_DC,     1,     1, CC_DC,     1);\n",
      "    cc.printClause(10,     0, CC_DC, CC_DC, CC_DC,     1, CC_DC,     0,     0,     1, CC_DC);\n",
      "    cc.printClause(10,     1, CC_DC, CC_DC, CC_DC,     0, CC_DC,     0,     0,     1, CC_DC);\n",
      "    cc.printClause(10, CC_DC,     0,     1, CC_DC,     1,     1, CC_DC,     0, CC_DC, CC_DC);\n",
      "    cc.printClause(10, CC_DC, CC_DC, CC_DC,     0, CC_DC, CC_DC,     0,     0,     0,     0);\n",
      "    cc.printClause(10, CC_DC,     1, CC_DC,     0, CC_DC,     1, CC_DC,     0, CC_DC,     0);\n",
      "    cc.printClause(10, CC_DC, CC_DC, CC_DC,     1, CC_DC,     0,     0, CC_DC,     1,     0);\n",
      "    cc.printClause(10, CC_DC, CC_DC, CC_DC,     1, CC_DC,     0,     1,     0,     0, CC_DC);\n",
      "    cc.printClause(10, CC_DC,     0,     0, CC_DC,     1,     1, CC_DC,     1, CC_DC, CC_DC);\n",
      "    cc.printClause(10,     0, CC_DC, CC_DC,     0,     0, CC_DC, CC_DC,     0, CC_DC,     1);\n",
      "    cc.printClause(10, CC_DC, CC_DC, CC_DC,     0,     1,     0, CC_DC,     1,     0, CC_DC);\n",
      "    cc.printClause(10, CC_DC,     1, CC_DC, CC_DC,     0, CC_DC, CC_DC,     0,     0,     1);\n",
      "    cc.printClause(10, CC_DC,     0, CC_DC,     1,     0,     0, CC_DC,     1, CC_DC, CC_DC);\n"
     ]
    }
   ],
   "source": [
    "import sys\n",
    "input_file = open(\"ma/espresso/sbox8.fast.cnf\", \"r\")\n",
    "for line in input_file:\n",
    "    if line[0] != '.' and line[0] != '#':\n",
    "        sys.stdout.write(\"    cc.printClause(10, \")\n",
    "        literals = list(line[0:10])\n",
    "        for i, literal in enumerate(literals):\n",
    "            if literal == \"-\":\n",
    "                sys.stdout.write(\"CC_DC\")\n",
    "            elif literal == \"0\":\n",
    "                sys.stdout.write(\"    1\")\n",
    "            else:\n",
    "                sys.stdout.write(\"    0\")\n",
    "            if i != 9:\n",
    "                sys.stdout.write(\", \")\n",
    "        print(\");\")"
   ]
  },
  {
   "cell_type": "code",
   "execution_count": null,
   "metadata": {
    "collapsed": true
   },
   "outputs": [],
   "source": []
  }
 ],
 "metadata": {
  "kernelspec": {
   "display_name": "Python 2",
   "language": "python",
   "name": "python2"
  },
  "language_info": {
   "codemirror_mode": {
    "name": "ipython",
    "version": 2
   },
   "file_extension": ".py",
   "mimetype": "text/x-python",
   "name": "python",
   "nbconvert_exporter": "python",
   "pygments_lexer": "ipython2",
   "version": "2.7.9"
  }
 },
 "nbformat": 4,
 "nbformat_minor": 0
}
